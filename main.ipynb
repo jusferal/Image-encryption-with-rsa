{
  "cells": [
    {
      "attachments": {},
      "cell_type": "markdown",
      "metadata": {
        "id": "UQ-AidzEFanc"
      },
      "source": [
        "##Encriptar imagen con RSA"
      ]
    },
    {
      "attachments": {},
      "cell_type": "markdown",
      "metadata": {
        "id": "uNYxGahEgtN8"
      },
      "source": [
        "### Generar clave"
      ]
    },
    {
      "cell_type": "code",
      "execution_count": null,
      "metadata": {
        "id": "87Il-57mgwwt"
      },
      "outputs": [],
      "source": [
        "import random\n",
        "import math\n",
        "\n",
        "def generar_dos_primos_altos():\n",
        "    primos = []\n",
        "    count = 0\n",
        "\n",
        "    while count < 2:\n",
        "        num = random.randint(1, 300)\n",
        "\n",
        "        if es_primo(num):\n",
        "            primos.append(num)\n",
        "            count += 1\n",
        "    p_a = primos[0]\n",
        "    p_b = primos[1]\n",
        "    return p_a,p_b\n",
        "\n",
        "\n",
        "def es_primo(num, k=5):\n",
        "    if num < 2:\n",
        "        return False\n",
        "    if num in (2, 3):\n",
        "        return True\n",
        "    if num % 2 == 0:\n",
        "        return False\n",
        "    r, d = 0, num - 1\n",
        "    while d % 2 == 0:\n",
        "        r += 1\n",
        "        d //= 2\n",
        "    for _ in range(k):\n",
        "        a = random.randint(2, num - 2)\n",
        "        x = pow(a, d, num)\n",
        "        if x == 1 or x == num - 1:\n",
        "            continue\n",
        "        for _ in range(r - 1):\n",
        "            x = pow(x, 2, num)\n",
        "            if x == num - 1:\n",
        "                break\n",
        "        else:\n",
        "            return False\n",
        "    return True\n",
        "\n",
        "def generar_claves(): #RSA\n",
        "    # Generar números primos p y q\n",
        "    #p = 101\n",
        "    #q = 311\n",
        "\n",
        "    p,q = generar_dos_primos_altos()\n",
        "\n",
        "    # Calcular n y phi(n)\n",
        "    n = p * q\n",
        "    phi_n = (p - 1) * (q - 1)\n",
        "\n",
        "    # Encontrar un número e tal que 1 < e < phi(n) y gcd(e, phi(n)) = 1\n",
        "    e = random.randint(2, phi_n - 1)\n",
        "    while math.gcd(e, phi_n) != 1:\n",
        "        e = random.randint(2, phi_n - 1)\n",
        "\n",
        "    # Encontrar el inverso multiplicativo de e modulo phi(n) usando el algoritmo extendido de Euclides\n",
        "    d = pow(e, -1, phi_n)\n",
        "\n",
        "    # Devolver las claves pública y privada\n",
        "    clave_publica = (e, n)\n",
        "    clave_privada = (d, n)\n",
        "    return clave_publica, clave_privada"
      ]
    },
    {
      "attachments": {},
      "cell_type": "markdown",
      "metadata": {
        "id": "cJ9O5Vw-g9az"
      },
      "source": [
        "### Encriptar y desencriptar"
      ]
    },
    {
      "cell_type": "code",
      "execution_count": null,
      "metadata": {
        "colab": {
          "base_uri": "https://localhost:8080/"
        },
        "id": "P7i5vcFhFaGE",
        "outputId": "099e877f-5bac-4575-99b3-b50e33b0501b"
      },
      "outputs": [
        {
          "name": "stdout",
          "output_type": "stream",
          "text": [
            "(143, 346) (83, 346)\n"
          ]
        }
      ],
      "source": [
        "    # Generar claves\n",
        "    clave_publica, clave_privada = generar_claves()\n",
        "    print(clave_publica, clave_privada)"
      ]
    },
    {
      "cell_type": "code",
      "execution_count": null,
      "metadata": {
        "id": "aIh8KdRnXNVJ"
      },
      "outputs": [],
      "source": [
        "import numpy as np\n",
        "import cv2\n",
        "from PIL import Image\n",
        "\n",
        "def encriptar(numero, clave_publica):\n",
        "    e, n = clave_publica\n",
        "    numero_encriptado = pow(numero, e, n)\n",
        "    return numero_encriptado\n",
        "\n",
        "def desencriptar(numero_encriptado, clave_privada):\n",
        "    d, n = clave_privada\n",
        "    numero_desencriptado = pow(numero_encriptado, d, n)\n",
        "    return numero_desencriptado\n",
        "\n",
        "def encriptar_imagen(nombre_imagen,clave):\n",
        "    img = cv2.imread(nombre_imagen + \".jpg\")\n",
        "    # Inicializar la matriz encriptada\n",
        "    matriz_encriptada = np.zeros_like(img, dtype=np.uint16)\n",
        "    matriz_RSA= np.zeros_like(img, dtype=np.uint16)\n",
        "    # Encriptar los canales de color (RGB) de cada píxel\n",
        "    for i in range(img.shape[0]):\n",
        "        for j in range(img.shape[1]):\n",
        "            for k in range(img.shape[2]):\n",
        "                pixel = img[i, j, k]\n",
        "                pixel_encriptado = encriptar(int(pixel), clave)\n",
        "                matriz_encriptada[i, j, k] = pixel_encriptado\n",
        "                matriz_RSA[i, j, k] = pixel_encriptado\n",
        "    # Guardar la matriz encriptada como una imagen en formato jpg\n",
        "    imagen_encriptada = Image.fromarray(matriz_encriptada.astype(np.uint8))\n",
        "    imagen_encriptada.save(nombre_imagen + '_encrip.jpg')\n",
        "    return matriz_RSA\n",
        "\n",
        "def desencriptar_imagen(nombre_imagen, clave, matriz):\n",
        "    img = cv2.imread(nombre_imagen + '_encrip.jpg')\n",
        "    orden=[2,1,0]\n",
        "    # Inicializar la matriz desencriptada\n",
        "    matriz_desencriptada = np.zeros_like(img, dtype=np.uint16)\n",
        "    # Desencriptar los canales de color (RGB) de cada píxel\n",
        "    for i in range(matriz.shape[0]):\n",
        "        for j in range(matriz.shape[1]):\n",
        "            for k in range(matriz.shape[2]):\n",
        "                pixel = matriz[i, j, k]\n",
        "                pixel_desencriptado = desencriptar(int(pixel), clave)\n",
        "                matriz_desencriptada[i, j, orden[k]] = pixel_desencriptado\n",
        "    # Guardar la matriz desencriptada como una imagen en formato jpg\n",
        "    imagen_desencriptada = Image.fromarray(matriz_desencriptada.astype(np.uint8))\n",
        "    imagen_desencriptada.save(nombre_imagen+'_desencrip.jpg')\n",
        "    return\n",
        "\n",
        "def pruebas_encriptación(imagen):\n",
        "    img = cv2.imread(imagen)\n",
        "    matriz_RSA = np.zeros_like(img, dtype=np.uint16)\n",
        "    matriz_RSA = encriptar_imagen(imagen.replace('.jpg', \"\"),clave_publica)\n",
        "    desencriptar_imagen(imagen.replace('.jpg', \"\"),clave_privada, matriz_RSA)\n",
        "    return"
      ]
    },
    {
      "attachments": {},
      "cell_type": "markdown",
      "metadata": {
        "id": "0VEyuaMfTc1S"
      },
      "source": [
        "#### Ejemplos de encriptación"
      ]
    },
    {
      "cell_type": "code",
      "execution_count": null,
      "metadata": {
        "id": "Xn7MVYLGazUG"
      },
      "outputs": [],
      "source": [
        "pruebas_encriptación(\"gato.jpg\")"
      ]
    },
    {
      "cell_type": "code",
      "execution_count": null,
      "metadata": {
        "id": "NoIcst1UnJG3"
      },
      "outputs": [],
      "source": [
        "pruebas_encriptación(\"qr.jpg\")"
      ]
    },
    {
      "cell_type": "code",
      "execution_count": null,
      "metadata": {
        "id": "SgmvqjOSsA4Y"
      },
      "outputs": [],
      "source": [
        "pruebas_encriptación(\"ima002.jpg\")"
      ]
    }
  ],
  "metadata": {
    "colab": {
      "provenance": []
    },
    "kernelspec": {
      "display_name": "Python 3",
      "name": "python3"
    },
    "language_info": {
      "name": "python"
    }
  },
  "nbformat": 4,
  "nbformat_minor": 0
}
